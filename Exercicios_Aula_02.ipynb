{
  "nbformat": 4,
  "nbformat_minor": 0,
  "metadata": {
    "colab": {
      "provenance": []
    },
    "kernelspec": {
      "name": "python3",
      "display_name": "Python 3"
    },
    "language_info": {
      "name": "python"
    }
  },
  "cells": [
    {
      "cell_type": "code",
      "execution_count": 5,
      "metadata": {
        "colab": {
          "base_uri": "https://localhost:8080/"
        },
        "id": "-3i0gRFS5pL2",
        "outputId": "27b16555-f91c-4a7d-e70d-4a3fe7656003"
      },
      "outputs": [
        {
          "output_type": "execute_result",
          "data": {
            "text/plain": [
              "array([3, 5, 6, 7, 2, 3, 4, 9, 4])"
            ]
          },
          "metadata": {},
          "execution_count": 5
        }
      ],
      "source": [
        "import numpy as np\n",
        "\n",
        "#Exercicios:\n",
        "####\n",
        "    #De acordo com o array X = np.array([3, 5, 6, 7, 2, 3, 4, 9, 4]) faça a soma\n",
        "    #Faça a média\n",
        "    #Dada a matriz faça a soma das colunas X = np.array([ [1, 2, 3, 4], [5, 6, 7, 8], [9, 10, 11, 12], [13, 14, 15, 16] ])\n",
        "    #Faça a média das linhas\n",
        "    #Dado o array X = np.array([1, 2, 0, 4, 5, 6, 0, 0, 9, 10]) Mostre o elemento de maior valor\n",
        "#####\n",
        "\n",
        "X = np.array([3, 5, 6, 7, 2, 3, 4, 9, 4])\n",
        "X\n"
      ]
    },
    {
      "cell_type": "code",
      "source": [
        "np.sum(X)"
      ],
      "metadata": {
        "colab": {
          "base_uri": "https://localhost:8080/"
        },
        "id": "7CzxG8I15yoC",
        "outputId": "42e96903-df0c-45fe-b65c-d0cb3345ccc1"
      },
      "execution_count": 6,
      "outputs": [
        {
          "output_type": "execute_result",
          "data": {
            "text/plain": [
              "43"
            ]
          },
          "metadata": {},
          "execution_count": 6
        }
      ]
    },
    {
      "cell_type": "code",
      "source": [
        "np.mean(X)\n"
      ],
      "metadata": {
        "colab": {
          "base_uri": "https://localhost:8080/"
        },
        "id": "aPH-VpeW52GM",
        "outputId": "9236a8e5-33d9-4961-c508-63fbb94b1ba0"
      },
      "execution_count": 14,
      "outputs": [
        {
          "output_type": "execute_result",
          "data": {
            "text/plain": [
              "3.7"
            ]
          },
          "metadata": {},
          "execution_count": 14
        }
      ]
    },
    {
      "cell_type": "code",
      "source": [
        "X = np.array([ [1, 2, 3, 4], [5, 6, 7, 8], [9, 10, 11, 12], [13, 14, 15, 16] ])\n",
        "X"
      ],
      "metadata": {
        "colab": {
          "base_uri": "https://localhost:8080/"
        },
        "id": "ydv_miin61yP",
        "outputId": "cca10052-10dd-4c57-8dc5-3e2ceb6ab7fa"
      },
      "execution_count": 15,
      "outputs": [
        {
          "output_type": "execute_result",
          "data": {
            "text/plain": [
              "array([[ 1,  2,  3,  4],\n",
              "       [ 5,  6,  7,  8],\n",
              "       [ 9, 10, 11, 12],\n",
              "       [13, 14, 15, 16]])"
            ]
          },
          "metadata": {},
          "execution_count": 15
        }
      ]
    },
    {
      "cell_type": "code",
      "source": [
        "c1 = np.sum(X[::,[0]])\n",
        "c2 = np.sum(X[::,[1]])\n",
        "c3 = np.sum(X[::,[2]])\n",
        "c4 = np.sum(X[::,[3]])\n",
        "print(c1,c2,c3,c4)\n"
      ],
      "metadata": {
        "colab": {
          "base_uri": "https://localhost:8080/"
        },
        "id": "U_jjN0eD54xi",
        "outputId": "864aac26-b9a6-440f-bac1-8ccf550c917f"
      },
      "execution_count": 17,
      "outputs": [
        {
          "output_type": "stream",
          "name": "stdout",
          "text": [
            "28 32 36 40\n"
          ]
        }
      ]
    },
    {
      "cell_type": "code",
      "source": [
        "np.sum(X, axis=0)"
      ],
      "metadata": {
        "colab": {
          "base_uri": "https://localhost:8080/"
        },
        "id": "b4q0VYGE6mEj",
        "outputId": "d2bc9cea-bbb7-427f-d531-2a3895c41657"
      },
      "execution_count": 19,
      "outputs": [
        {
          "output_type": "execute_result",
          "data": {
            "text/plain": [
              "array([28, 32, 36, 40])"
            ]
          },
          "metadata": {},
          "execution_count": 19
        }
      ]
    },
    {
      "cell_type": "code",
      "source": [
        "l1 = np.mean(X[[0],::])\n",
        "l2 = np.mean(X[[1],::])\n",
        "l3 = np.mean(X[[2],::])\n",
        "l4 = np.mean(X[[3],::])\n",
        "print(l1,l2,l3,l4)\n",
        "\n"
      ],
      "metadata": {
        "colab": {
          "base_uri": "https://localhost:8080/"
        },
        "id": "KIIc-o5F5-Mg",
        "outputId": "e91c0f42-3988-4555-d1d3-cbb9e09aafd8"
      },
      "execution_count": 20,
      "outputs": [
        {
          "output_type": "stream",
          "name": "stdout",
          "text": [
            "2.5 6.5 10.5 14.5\n"
          ]
        }
      ]
    },
    {
      "cell_type": "code",
      "source": [
        "np.mean(X, axis=1)\n"
      ],
      "metadata": {
        "colab": {
          "base_uri": "https://localhost:8080/"
        },
        "id": "HXFJhIBj6pvH",
        "outputId": "59fd36d9-43e6-4063-eb11-b9cc726740d4"
      },
      "execution_count": 12,
      "outputs": [
        {
          "output_type": "execute_result",
          "data": {
            "text/plain": [
              "array([ 2.5,  6.5, 10.5, 14.5])"
            ]
          },
          "metadata": {},
          "execution_count": 12
        }
      ]
    },
    {
      "cell_type": "code",
      "source": [
        "X = np.array([1, 2, 0, 4, 5, 6, 0, 0, 9, 10])\n",
        "np.max(X)"
      ],
      "metadata": {
        "colab": {
          "base_uri": "https://localhost:8080/"
        },
        "id": "bVgRlEQY5_yN",
        "outputId": "1830bf2b-ef2f-4acd-b734-a42075317a0a"
      },
      "execution_count": 13,
      "outputs": [
        {
          "output_type": "execute_result",
          "data": {
            "text/plain": [
              "10"
            ]
          },
          "metadata": {},
          "execution_count": 13
        }
      ]
    }
  ]
}